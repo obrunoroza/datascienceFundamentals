{
 "cells": [
  {
   "cell_type": "markdown",
   "metadata": {},
   "source": [
    "# <font color='blue'>Data Science Academy - Python Fundamentos - Capítulo 5</font>"
   ]
  },
  {
   "cell_type": "code",
   "execution_count": 1,
   "metadata": {},
   "outputs": [
    {
     "name": "stdout",
     "output_type": "stream",
     "text": [
      "Versão da Linguagem Python Usada Neste Jupyter Notebook: 3.8.8\n"
     ]
    }
   ],
   "source": [
    "# Versão da Linguagem Python\n",
    "from platform import python_version\n",
    "print('Versão da Linguagem Python Usada Neste Jupyter Notebook:', python_version())"
   ]
  },
  {
   "cell_type": "markdown",
   "metadata": {},
   "source": [
    "## Exercícios"
   ]
  },
  {
   "cell_type": "code",
   "execution_count": 2,
   "metadata": {},
   "outputs": [
    {
     "name": "stdout",
     "output_type": "stream",
     "text": [
      "1 3\n"
     ]
    }
   ],
   "source": [
    "# Exercício 1 - Crie um objeto a partir da classe abaixo, chamado roc1, passando 2 parâmetros e depois faça uma chamada\n",
    "# aos atributos e métodos\n",
    "from math import sqrt\n",
    "\n",
    "class Rocket():\n",
    "     \n",
    "    def __init__(self, x=0, y=0):\n",
    "        self.x = x\n",
    "        self.y = y\n",
    "        \n",
    "    def move_rocket(self, x_increment=0, y_increment=1):\n",
    "        self.x += x_increment\n",
    "        self.y += y_increment\n",
    "        \n",
    "    def print_rocket(self):\n",
    "        print(self.x, self.y)\n",
    "    \n",
    "    \n",
    "roc1 = Rocket(1, 1)\n",
    "\n",
    "roc1.move_rocket(0, 2)\n",
    "\n",
    "roc1.print_rocket()\n",
    "        "
   ]
  },
  {
   "cell_type": "code",
   "execution_count": 56,
   "metadata": {},
   "outputs": [
    {
     "name": "stdout",
     "output_type": "stream",
     "text": [
      "Cadastro realizado com sucesso!\n",
      "Nome: Bruno Rosa \n",
      "Cidade: São Paulo \n",
      "Telefone: 17 9 9799-9999 \n",
      "Email:obrunoroza@qualquer.com\n",
      "\n",
      "Bruno Rosa\n",
      "São Paulo\n",
      "17 9 9799-9999\n",
      "obrunoroza@qualquer.com\n"
     ]
    }
   ],
   "source": [
    "# Exercício 2 - Crie uma classe chamada Pessoa() com os atributos: nome, cidade, telefone e e-mail. Use pelo menos 2\n",
    "# métodos especiais na sua classe. Crie um objeto da sua classe e faça uma chamada a pelo menos um dos seus métodos\n",
    "# especiais.\n",
    "\n",
    "class Pessoa(object):\n",
    "    \n",
    "    def __init__(self, nome: str, cidade: str, telefone: str, email: str)-> None:\n",
    "        self.__nome = nome\n",
    "        self.__cidade = cidade\n",
    "        self.__telefone = telefone\n",
    "        self.__email = email\n",
    "        print('Cadastro realizado com sucesso!')\n",
    "    \n",
    "    @property\n",
    "    def get_nome(self) -> str:\n",
    "        return self.__nome\n",
    "    \n",
    "    @property\n",
    "    def get_cidade(self) -> str:\n",
    "        return self.__cidade\n",
    "    \n",
    "    @property\n",
    "    def get_telefone(self) -> str:\n",
    "        return self.__telefone\n",
    "    \n",
    "    @property\n",
    "    def get_email(self) -> str:\n",
    "        return self.__email\n",
    "    \n",
    "    \n",
    "    def __str__(self) -> str:\n",
    "        return f\"Nome: {self.__nome} \\nCidade: {self.__cidade} \\nTelefone: {self.__telefone} \\nEmail:{self.__email}\"\n",
    "    \n",
    "        \n",
    "bruno = Pessoa(\"Bruno Rosa\", \"São Paulo\", \"17 9 9799-9999\", \"obrunoroza@qualquer.com\")\n",
    "\n",
    "print(bruno)\n",
    "\n",
    "print()\n",
    "\n",
    "print(bruno.get_nome)\n",
    "print(bruno.get_cidade)\n",
    "print(bruno.get_telefone)\n",
    "print(bruno.get_email)"
   ]
  },
  {
   "cell_type": "code",
   "execution_count": 74,
   "metadata": {},
   "outputs": [
    {
     "name": "stdout",
     "output_type": "stream",
     "text": [
      "Tamanho: 5 Polegadas \n",
      "Interface: Widescreen\n",
      "\n",
      "Tamanho: 7 Polegadas \n",
      "Interface: UltraWide \n",
      "Capacidade: 30\n"
     ]
    }
   ],
   "source": [
    "# Exercício 3 - Crie a classe Smartphone com 2 atributos, tamanho e interface e crie a classe MP3Player com os \n",
    "# atributos capacidade. A classe MP3player deve herdar os atributos da classe Smartphone.\n",
    "\n",
    "class Smartphone(object):\n",
    "    \n",
    "    def __init__(self, tamanho: str, interface: str) -> None:\n",
    "        self.__tamanho = tamanho\n",
    "        self.__interface = interface\n",
    "        \n",
    "    def __str__(self) -> str:\n",
    "        return f\"Tamanho: {self.__tamanho} \\nInterface: {self.__interface}\"\n",
    "\n",
    "    \n",
    "class Mp3Player(Smartphone):\n",
    "    \n",
    "    def __init__(self, tamanho: str, interface: str, capacidade: int) -> None:\n",
    "        Smartphone.__init__(self, tamanho, interface)\n",
    "        self.__capacidade = capacidade\n",
    "        \n",
    "    def __str__(self) -> str:\n",
    "        return f\"Tamanho: {self._Smartphone__tamanho} \\nInterface: {self._Smartphone__interface} \\nCapacidade: {self.__capacidade}\"\n",
    "      \n",
    "    \n",
    "moto_g = Smartphone(\"5 Polegadas\", \"Widescreen\")\n",
    "print(moto_g)\n",
    "\n",
    "print()\n",
    "\n",
    "mp3 = Mp3Player(\"7 Polegadas\", \"UltraWide\", 30)\n",
    "print(mp3)"
   ]
  }
 ],
 "metadata": {
  "kernelspec": {
   "display_name": "Python 3 (ipykernel)",
   "language": "python",
   "name": "python3"
  },
  "language_info": {
   "codemirror_mode": {
    "name": "ipython",
    "version": 3
   },
   "file_extension": ".py",
   "mimetype": "text/x-python",
   "name": "python",
   "nbconvert_exporter": "python",
   "pygments_lexer": "ipython3",
   "version": "3.9.12"
  }
 },
 "nbformat": 4,
 "nbformat_minor": 1
}
